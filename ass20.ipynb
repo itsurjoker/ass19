{
 "cells": [
  {
   "cell_type": "code",
   "execution_count": 1,
   "id": "3918d4cc-8d32-4d29-a414-6551b6affbd4",
   "metadata": {},
   "outputs": [
    {
     "name": "stdout",
     "output_type": "stream",
     "text": [
      "0     4\n",
      "1     8\n",
      "2    15\n",
      "3    16\n",
      "4    23\n",
      "5    42\n",
      "dtype: int64\n"
     ]
    }
   ],
   "source": [
    "#Q1.\n",
    "\n",
    "import pandas as pd\n",
    "\n",
    "data = [4, 8, 15, 16, 23, 42]\n",
    "series = pd.Series(data)\n",
    "\n",
    "print(series)"
   ]
  },
  {
   "cell_type": "code",
   "execution_count": 2,
   "id": "7cec3bd7-50cb-4cc4-b756-a1c0cdf9a82d",
   "metadata": {},
   "outputs": [
    {
     "name": "stdout",
     "output_type": "stream",
     "text": [
      "0     10\n",
      "1     20\n",
      "2     30\n",
      "3     40\n",
      "4     50\n",
      "5     60\n",
      "6     70\n",
      "7     80\n",
      "8     90\n",
      "9    100\n",
      "dtype: int64\n"
     ]
    }
   ],
   "source": [
    "#Q2.\n",
    "\n",
    "import pandas as pd\n",
    "\n",
    "# Create a list with 10 elements\n",
    "my_list = [10, 20, 30, 40, 50, 60, 70, 80, 90, 100]\n",
    "\n",
    "# Create a pandas Series from the list\n",
    "my_series = pd.Series(my_list)\n",
    "\n",
    "# Print the Series\n",
    "print(my_series)"
   ]
  },
  {
   "cell_type": "code",
   "execution_count": 3,
   "id": "9404bc0c-c86b-4f65-9d3a-176a9977e5f3",
   "metadata": {},
   "outputs": [
    {
     "name": "stdout",
     "output_type": "stream",
     "text": [
      "     Name  Age  Gender\n",
      "0   Alice   25  Female\n",
      "1     Bob   30    Male\n",
      "2  Claire   27  Female\n"
     ]
    }
   ],
   "source": [
    "#Q3.\n",
    "\n",
    "import pandas as pd\n",
    "\n",
    "data = {\n",
    "    'Name': ['Alice', 'Bob', 'Claire'],\n",
    "    'Age': [25, 30, 27],\n",
    "    'Gender': ['Female', 'Male', 'Female']\n",
    "}\n",
    "\n",
    "df = pd.DataFrame(data)\n",
    "\n",
    "print(df)"
   ]
  },
  {
   "cell_type": "code",
   "execution_count": 4,
   "id": "adcf4a23-2e69-4542-9b5d-0542688b6684",
   "metadata": {},
   "outputs": [
    {
     "name": "stdout",
     "output_type": "stream",
     "text": [
      "DataFrame:\n",
      "      Name  Age         City\n",
      "0    Alice   25     New York\n",
      "1      Bob   30  Los Angeles\n",
      "2  Charlie   22      Chicago\n",
      "3    David   28      Houston\n",
      "\n",
      "Series (Age):\n",
      "0    25\n",
      "1    30\n",
      "2    22\n",
      "3    28\n",
      "Name: Age, dtype: int64\n"
     ]
    }
   ],
   "source": [
    "#Q4.\n",
    "\n",
    "#In pandas, a DataFrame is a two-dimensional labeled data structure that is widely used for data manipulation and analysis. It is one of the core data structures provided by the pandas library and is often used to represent tabular data, similar to a spreadsheet or a SQL table. Each column in a DataFrame can be thought of as a pandas Series.\n",
    "#A Series, on the other hand, is a one-dimensional labeled array, similar to a column in a spreadsheet or a single column in a database table. It is a fundamental building block of a DataFrame and can be seen as a single column of data with associated labels (index).\n",
    "\n",
    "#Here's an example to illustrate the difference between a DataFrame and a Series:\n",
    "\n",
    "import pandas as pd\n",
    "\n",
    "# Create a dictionary of data\n",
    "data = {\n",
    "    'Name': ['Alice', 'Bob', 'Charlie', 'David'],\n",
    "    'Age': [25, 30, 22, 28],\n",
    "    'City': ['New York', 'Los Angeles', 'Chicago', 'Houston']\n",
    "}\n",
    "\n",
    "# Creating a DataFrame from the dictionary\n",
    "df = pd.DataFrame(data)\n",
    "\n",
    "# Display the DataFrame\n",
    "print(\"DataFrame:\")\n",
    "print(df)\n",
    "\n",
    "# Accessing a single column as a Series\n",
    "age_series = df['Age']\n",
    "\n",
    "# Display the Series\n",
    "print(\"\\nSeries (Age):\")\n",
    "print(age_series)"
   ]
  },
  {
   "cell_type": "code",
   "execution_count": 5,
   "id": "a560369a-2194-489b-bf4d-78c5b1ff9539",
   "metadata": {},
   "outputs": [
    {
     "name": "stdout",
     "output_type": "stream",
     "text": [
      "    Name  Age\n",
      "0  Alice   25\n",
      "1    Bob   30\n",
      "      Name  Age\n",
      "2  Charlie   22\n",
      "3    David   28\n",
      "4      Eve   24\n",
      "<class 'pandas.core.frame.DataFrame'>\n",
      "RangeIndex: 5 entries, 0 to 4\n",
      "Data columns (total 2 columns):\n",
      " #   Column  Non-Null Count  Dtype \n",
      "---  ------  --------------  ----- \n",
      " 0   Name    5 non-null      object\n",
      " 1   Age     5 non-null      int64 \n",
      "dtypes: int64(1), object(1)\n",
      "memory usage: 208.0+ bytes\n",
      "None\n",
      "             Age\n",
      "count   5.000000\n",
      "mean   25.800000\n",
      "std     3.193744\n",
      "min    22.000000\n",
      "25%    24.000000\n",
      "50%    25.000000\n",
      "75%    28.000000\n",
      "max    30.000000\n",
      "(5, 2)\n",
      "      Name  Age\n",
      "1      Bob   30\n",
      "2  Charlie   22\n",
      "3    David   28\n",
      "      Name  Age\n",
      "1      Bob   30\n",
      "2  Charlie   22\n",
      "3    David   28\n",
      "      Name  Age\n",
      "1      Bob   30\n",
      "2  Charlie   22\n",
      "Age\n",
      "22    1\n",
      "24    1\n",
      "25    1\n",
      "28    1\n",
      "30    1\n",
      "Name: Name, dtype: int64\n"
     ]
    }
   ],
   "source": [
    "#Q5.\n",
    "\n",
    "#Pandas is a powerful Python library for data manipulation and analysis. It provides a wide range of functions to manipulate data within a DataFrame. Here are some common functions and methods along with examples of when we might use them:\n",
    "\n",
    "#1.head() and tail(): These functions allow you to view the first few rows or the last few rows of your DataFrame. Useful for quickly inspecting the data.\n",
    "\n",
    "import pandas as pd\n",
    "\n",
    "data = {'Name': ['Alice', 'Bob', 'Charlie', 'David', 'Eve'],\n",
    "        'Age': [25, 30, 22, 28, 24]}\n",
    "df = pd.DataFrame(data)\n",
    "\n",
    "print(df.head(2))  \n",
    "print(df.tail(3))\n",
    "\n",
    "\n",
    "#2info(): Provides a summary of the DataFrame, including data types and memory usage. Useful for understanding the structure of the data.\n",
    "\n",
    "print(df.info())\n",
    "\n",
    "#3.describe(): Generates summary statistics of numerical columns in the DataFrame. Useful for gaining insights into the distribution of the data.\n",
    "\n",
    "print(df.describe())\n",
    "\n",
    "#4.shape: Returns the dimensions (rows, columns) of the DataFrame. Useful for quickly checking the size of the data.\n",
    "\n",
    "print(df.shape)\n",
    "\n",
    "#5.loc[] and iloc[]: Used for accessing rows and columns by label or integer location, respectively.\n",
    "\n",
    "# Select rows with label-based indexing\n",
    "print(df.loc[1:3])\n",
    "\n",
    "# Select rows and columns with label-based indexing\n",
    "print(df.loc[1:3, 'Name':'Age'])\n",
    "\n",
    "# Select rows and columns with integer-based indexing\n",
    "print(df.iloc[1:3, 0:2])\n",
    "\n",
    "#6.groupby(): Allows you to group data based on one or more columns and perform aggregate functions on the groups.\n",
    "\n",
    "grouped = df.groupby('Age')\n",
    "print(grouped['Name'].count())\n",
    "\n",
    "#7.sort_values(): Sorts the DataFrame by one or more columns.\n",
    "\n",
    "sorted_df = df.sort_values(by='Age', ascending=False)\n",
    "\n",
    "#8.drop(): Removes specified rows or columns from the DataFrame.\n",
    "\n",
    "new_df = df.drop(index=[1, 3])\n",
    "\n",
    "#9.fillna(): Fills missing values in the DataFrame with a specified value or method.\n",
    "\n",
    "df_filled = df.fillna(value=0)\n",
    "\n",
    "#10.pivot_table(): Creates a pivot table from the DataFrame, allowing you to summarize and analyze data.\n",
    "\n",
    "pivot = df.pivot_table(index='Age', values='Name', aggfunc='count')"
   ]
  },
  {
   "cell_type": "code",
   "execution_count": null,
   "id": "4e4771d2-0bce-4c81-8848-df6525dae405",
   "metadata": {},
   "outputs": [],
   "source": [
    "#Q6.\n",
    "\n",
    "#Among the options provided, the DataFrame is mutable in nature. In pandas, a DataFrame is a two-dimensional, size-mutable, and heterogeneous tabular data structure with labeled axes (rows and columns). This means you can modify the contents of a DataFrame after it has been created, such as changing values, adding or removing columns, and performing various data manipulation operations.\n",
    "\n",
    "#Series and Panel (which has been deprecated in recent versions of pandas) are generally considered immutable, meaning their contents cannot be modified once they are created. While you can perform various operations on Series and Panel objects to create new Series or Panel objects, the original objects themselves typically remain unchanged."
   ]
  },
  {
   "cell_type": "code",
   "execution_count": null,
   "id": "c968ff48-f440-4b1f-9837-a7bdc9d5eabf",
   "metadata": {},
   "outputs": [],
   "source": [
    "#Q7.\n",
    "\n",
    "#A DataFrame is a two-dimensional, size-mutable, and heterogeneous tabular data structure in pandas, a popular data manipulation library in Python. It consists of rows and columns, where each column can hold data of different types (e.g., integers, strings, floats).\n",
    "#To create a DataFrame using multiple Series, you can first create individual Series objects (which are essentially one-dimensional arrays with labels), and then combine them into a DataFrame.\n",
    "\n",
    "#Here's an example of creating a DataFrame using multiple Series:\n",
    "import pandas as pd\n",
    "\n",
    "# Create individual Series\n",
    "names = pd.Series(['Alice', 'Bob', 'Charlie', 'David'])\n",
    "ages = pd.Series([25, 30, 28, 22])\n",
    "scores = pd.Series([95, 85, 78, 90])\n",
    "\n",
    "# Combine the Series into a DataFrame\n",
    "data = {'Name': names, 'Age': ages, 'Score': scores}\n",
    "df = pd.DataFrame(data)\n",
    "\n",
    "# Display the DataFrame\n",
    "print(df)\n",
    "\n",
    "#In this example, we first import the pandas library as pd. Then, we create three Series: names, ages, and scores, each containing data for the corresponding column in the DataFrame.\n",
    "#Next, we create a dictionary data where the keys are the column names ('Name', 'Age', 'Score') and the values are the corresponding Series. Finally, we use the pd.DataFrame() constructor to create the DataFrame df by passing in the data dictionary.\n",
    "#The resulting DataFrame df has rows with the data from the Series, and each column represents a different attribute (name, age, score) of the data"
   ]
  }
 ],
 "metadata": {
  "kernelspec": {
   "display_name": "Python 3 (ipykernel)",
   "language": "python",
   "name": "python3"
  },
  "language_info": {
   "codemirror_mode": {
    "name": "ipython",
    "version": 3
   },
   "file_extension": ".py",
   "mimetype": "text/x-python",
   "name": "python",
   "nbconvert_exporter": "python",
   "pygments_lexer": "ipython3",
   "version": "3.10.8"
  }
 },
 "nbformat": 4,
 "nbformat_minor": 5
}
